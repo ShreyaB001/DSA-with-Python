{
 "cells": [
  {
   "cell_type": "markdown",
   "id": "52ee8ddb",
   "metadata": {},
   "source": [
    "# Kadane's Algo 1"
   ]
  },
  {
   "cell_type": "code",
   "execution_count": null,
   "id": "7c2b6ae7",
   "metadata": {},
   "outputs": [
    {
     "name": "stdout",
     "output_type": "stream",
     "text": [
      "12\n"
     ]
    }
   ],
   "source": [
    "def largetsubarraysum(givenNums):\n",
    "    maxsum=0\n",
    "    currsum=0\n",
    "    start=0\n",
    "    end=0\n",
    "\n",
    "    n=len(givenNums)\n",
    "\n",
    "    while end < n:\n",
    "        while currsum < 0:\n",
    "            currsum -= givenNums[start]\n",
    "            start += 1  \n",
    "\n",
    "        currsum += givenNums[end]\n",
    "        end += 1\n",
    "        maxsum = max(maxsum,currsum)\n",
    "    return maxsum\n",
    "\n",
    "\n",
    "givenNums=[1 , 4 , -3 , 10 , -20 , 12]\n",
    "print(largetsubarraysum(givenNums))"
   ]
  },
  {
   "cell_type": "markdown",
   "id": "7a455723",
   "metadata": {},
   "source": [
    "# Kadane's Algo 2"
   ]
  },
  {
   "cell_type": "code",
   "execution_count": 2,
   "id": "2981035c",
   "metadata": {},
   "outputs": [
    {
     "name": "stdout",
     "output_type": "stream",
     "text": [
      "12\n"
     ]
    }
   ],
   "source": [
    "def largetsubarraysum(givenNums):\n",
    "    maxsum=givenNums[0]\n",
    "    currsum=givenNums[0]\n",
    "    for i in range(1,len(givenNums)):\n",
    "        currsum=max(givenNums[i],currsum+givenNums[i])\n",
    "        maxsum=max(currsum,maxsum)\n",
    "    return maxsum\n",
    "givenNums=[1 , 4 , -3 , 10 , -20 , 12]\n",
    "print(largetsubarraysum(givenNums))"
   ]
  },
  {
   "cell_type": "markdown",
   "id": "49639791",
   "metadata": {},
   "source": [
    "# Flip Bits"
   ]
  },
  {
   "cell_type": "code",
   "execution_count": 4,
   "id": "3f5a91c2",
   "metadata": {},
   "outputs": [
    {
     "name": "stdout",
     "output_type": "stream",
     "text": [
      "4\n"
     ]
    }
   ],
   "source": [
    "def flip(arr):\n",
    "    total_one=arr.count(1)\n",
    "    gain_arr=[]\n",
    "    for i in arr:\n",
    "        if i==0:\n",
    "            gain_arr.append(1)\n",
    "        else:\n",
    "            gain_arr.append(-1)\n",
    "    curr_gain=max_gain=gain_arr[0]\n",
    "    for num in range(1,len(gain_arr)):\n",
    "        curr_gain=max(gain_arr[num],curr_gain+gain_arr[num])\n",
    "        max_gain=max(curr_gain,max_gain)\n",
    "    if max_gain<0:\n",
    "        max_gain=-1\n",
    "    return total_one+max_gain\n",
    "\n",
    "\n",
    "arr=[1,0,0,1,0]\n",
    "print(flip(arr))"
   ]
  }
 ],
 "metadata": {
  "kernelspec": {
   "display_name": "Python 3",
   "language": "python",
   "name": "python3"
  },
  "language_info": {
   "codemirror_mode": {
    "name": "ipython",
    "version": 3
   },
   "file_extension": ".py",
   "mimetype": "text/x-python",
   "name": "python",
   "nbconvert_exporter": "python",
   "pygments_lexer": "ipython3",
   "version": "3.12.4"
  }
 },
 "nbformat": 4,
 "nbformat_minor": 5
}
