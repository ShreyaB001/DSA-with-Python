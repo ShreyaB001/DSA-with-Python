{
 "cells": [
  {
   "cell_type": "markdown",
   "id": "52ee8ddb",
   "metadata": {},
   "source": [
    "# Kadane's Algo 1"
   ]
  },
  {
   "cell_type": "code",
   "execution_count": 1,
   "id": "7c2b6ae7",
   "metadata": {},
   "outputs": [
    {
     "name": "stdout",
     "output_type": "stream",
     "text": [
      "12\n"
     ]
    }
   ],
   "source": [
    "def largetsubarraysum(givenNums):\n",
    "    maxsum=0\n",
    "    currsum=0\n",
    "    start=0\n",
    "    end=0\n",
    "\n",
    "    n=len(givenNums)\n",
    "\n",
    "    while end < n:\n",
    "        while currsum < 0:\n",
    "            currsum -= givenNums[start]\n",
    "            start += 1  \n",
    "\n",
    "        currsum += givenNums[end]\n",
    "        end += 1\n",
    "        maxsum = max(maxsum,currsum)\n",
    "    return maxsum\n",
    "\n",
    "\n",
    "givenNums=[1 , 4 , -3 , 10 , -20 , 12]\n",
    "print(largetsubarraysum(givenNums))\n"
   ]
  },
  {
   "cell_type": "markdown",
   "id": "7a455723",
   "metadata": {},
   "source": [
    "# Kadane's Algo 2"
   ]
  },
  {
   "cell_type": "code",
   "execution_count": 2,
   "id": "2981035c",
   "metadata": {},
   "outputs": [
    {
     "name": "stdout",
     "output_type": "stream",
     "text": [
      "12\n"
     ]
    }
   ],
   "source": [
    "def largetsubarraysum(givenNums):\n",
    "    maxsum=givenNums[0]\n",
    "    currsum=givenNums[0]\n",
    "    for i in range(1,len(givenNums)):\n",
    "        currsum=max(givenNums[i],currsum+givenNums[i])\n",
    "        maxsum=max(currsum,maxsum)\n",
    "    return maxsum\n",
    "givenNums=[1 , 4 , -3 , 10 , -20 , 12]\n",
    "print(largetsubarraysum(givenNums))"
   ]
  }
 ],
 "metadata": {
  "kernelspec": {
   "display_name": "Python 3",
   "language": "python",
   "name": "python3"
  },
  "language_info": {
   "codemirror_mode": {
    "name": "ipython",
    "version": 3
   },
   "file_extension": ".py",
   "mimetype": "text/x-python",
   "name": "python",
   "nbconvert_exporter": "python",
   "pygments_lexer": "ipython3",
   "version": "3.12.4"
  }
 },
 "nbformat": 4,
 "nbformat_minor": 5
}
