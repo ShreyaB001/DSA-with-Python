{
 "cells": [
  {
   "cell_type": "markdown",
   "id": "29473816",
   "metadata": {},
   "source": [
    "# 1st Version"
   ]
  },
  {
   "cell_type": "code",
   "execution_count": 2,
   "id": "79b86ae9",
   "metadata": {},
   "outputs": [
    {
     "name": "stdout",
     "output_type": "stream",
     "text": [
      "Pattern found at index 3\n"
     ]
    }
   ],
   "source": [
    "def computelps(pattern, lps):\n",
    "    n = len(pattern)\n",
    "    i = 1\n",
    "    temp = 0\n",
    "    while i < n:\n",
    "        if pattern[i] == pattern[temp]:\n",
    "            temp += 1\n",
    "            lps[i] = temp\n",
    "            i += 1\n",
    "        else:\n",
    "            if temp != 0:\n",
    "                temp = lps[temp - 1]\n",
    "            else:\n",
    "                lps[i] = 0\n",
    "                i += 1\n",
    "\n",
    "def KMP(a, b):\n",
    "    n = len(a)\n",
    "    m = len(b)\n",
    "    lps = [0] * m\n",
    "\n",
    "    computelps(b, lps)\n",
    "\n",
    "    i = 0  # Index for text a\n",
    "    j = 0  # Index for pattern b\n",
    "    found = False  # Flag to track if pattern is found\n",
    "\n",
    "    while i < n:\n",
    "        if a[i] == b[j]:\n",
    "            i += 1\n",
    "            j += 1\n",
    "        \n",
    "        if j == m:  # Pattern matched completely\n",
    "            print(f\"Pattern found at index {i - j}\")\n",
    "            found = True\n",
    "            j = lps[j - 1]  # Reset j using the LPS array\n",
    "\n",
    "        elif i < n and a[i] != b[j]:\n",
    "            if j != 0:\n",
    "                j = lps[j - 1]  # Use LPS to avoid redundant comparisons\n",
    "            else:\n",
    "                i += 1\n",
    "\n",
    "    if not found:\n",
    "        print(\"Pattern not found\")\n",
    "\n",
    "# Example Usage\n",
    "a = \"abcabcabe\"\n",
    "b = \"abcabe\"\n",
    "KMP(a, b)\n"
   ]
  },
  {
   "cell_type": "markdown",
   "id": "cb8df718",
   "metadata": {},
   "source": [
    "# 2nd Version"
   ]
  },
  {
   "cell_type": "code",
   "execution_count": 3,
   "id": "0fe21176",
   "metadata": {},
   "outputs": [
    {
     "name": "stdout",
     "output_type": "stream",
     "text": [
      "Pattern Found\n"
     ]
    }
   ],
   "source": [
    "def compute_lps(pattern):\n",
    "    lps=[0]*len(pattern)\n",
    "    length=0\n",
    "    i=1\n",
    "    while i<len(pattern):\n",
    "        if pattern[i]==pattern[length]:\n",
    "            length+=1\n",
    "            lps[i]=length\n",
    "            i+=1\n",
    "        else:\n",
    "            if length!=0:\n",
    "                length=lps[length-1]\n",
    "            else:\n",
    "                lps[i]=0\n",
    "                i+=1\n",
    "    return lps\n",
    "def kmp_search(text,pattern):\n",
    "    lps=compute_lps(pattern)\n",
    "    i=j=0\n",
    "    found=False\n",
    "    while i<len(text):\n",
    "        if text[i]==pattern[j]:\n",
    "            i+=1\n",
    "            j+=1\n",
    "        if j==len(pattern):\n",
    "            print(\"Pattern Found\")\n",
    "            found=True\n",
    "        elif i<len(text) and text[i]!=pattern[j]:\n",
    "            if j!=0:\n",
    "                j=lps[j-1]\n",
    "            else:\n",
    "                i+=1\n",
    "    if not found:\n",
    "        print(\"Not Found\")\n",
    "\n",
    "text = \"ABABCABABD\"\n",
    "pattern = \"ABABD\"\n",
    "kmp_search(text, pattern)\n"
   ]
  }
 ],
 "metadata": {
  "kernelspec": {
   "display_name": "Python 3",
   "language": "python",
   "name": "python3"
  },
  "language_info": {
   "codemirror_mode": {
    "name": "ipython",
    "version": 3
   },
   "file_extension": ".py",
   "mimetype": "text/x-python",
   "name": "python",
   "nbconvert_exporter": "python",
   "pygments_lexer": "ipython3",
   "version": "3.12.4"
  }
 },
 "nbformat": 4,
 "nbformat_minor": 5
}
