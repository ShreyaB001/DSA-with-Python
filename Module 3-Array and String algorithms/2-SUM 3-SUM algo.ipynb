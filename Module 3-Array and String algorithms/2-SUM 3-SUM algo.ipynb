{
 "cells": [
  {
   "cell_type": "markdown",
   "id": "38dd8d46",
   "metadata": {},
   "source": [
    "# 2-SUM"
   ]
  },
  {
   "cell_type": "code",
   "execution_count": 12,
   "id": "b6006948",
   "metadata": {},
   "outputs": [
    {
     "name": "stdout",
     "output_type": "stream",
     "text": [
      "[0, 1]\n"
     ]
    }
   ],
   "source": [
    "def solve(arr,target):\n",
    "    temp=arr.copy()\n",
    "    arr.sort()\n",
    "    start=0\n",
    "    end=len(arr)-1\n",
    "    while start<end:\n",
    "        curr_sum=arr[start]+arr[end]\n",
    "        if curr_sum==target:\n",
    "            ans=[]\n",
    "            used=set()\n",
    "            for i in range(len(temp)):\n",
    "                if temp[i]==arr[start] and i not in used:\n",
    "                    ans.append(i)\n",
    "                    used.add(i)\n",
    "                    break\n",
    "            for i in range(len(temp)):\n",
    "                if temp[i]==arr[end] and i not in used:\n",
    "                    ans.append(i)\n",
    "                    used.add(i)\n",
    "                    break\n",
    "            return ans\n",
    "        if curr_sum>target:\n",
    "            end-=1\n",
    "        else:\n",
    "            start+=1\n",
    "    return -1\n",
    "\n",
    "arr=[2,2,2,4]\n",
    "print(solve(arr,4))"
   ]
  },
  {
   "cell_type": "markdown",
   "id": "2e21d82a",
   "metadata": {},
   "source": [
    "# 3-SUM"
   ]
  },
  {
   "cell_type": "code",
   "execution_count": 13,
   "id": "21c4ed46",
   "metadata": {},
   "outputs": [
    {
     "name": "stdout",
     "output_type": "stream",
     "text": [
      "[0, 1, 2]\n"
     ]
    }
   ],
   "source": [
    "def solve(arr,target):\n",
    "    temp=arr.copy()\n",
    "    arr.sort()\n",
    "    for k in range(len(arr)):\n",
    "        temp_target=target\n",
    "        temp_target-=arr[k]\n",
    "        start=k+1\n",
    "        end=len(arr)-1\n",
    "        while start<end:\n",
    "            curr_sum=arr[start]+arr[end]\n",
    "            if curr_sum==temp_target:\n",
    "                ans=[]\n",
    "\n",
    "\n",
    "                for i in range(len(temp)):\n",
    "                    if arr[start]==temp[i] or arr[end]==temp[i] or arr[k]==temp[i]:\n",
    "                        ans.append(i)\n",
    "                return ans\n",
    "            if curr_sum>target:\n",
    "                end-=1\n",
    "            else:\n",
    "                start+=1\n",
    "    return -1\n",
    "\n",
    "arr=[2,1,10,5,7]\n",
    "print(solve(arr,13))"
   ]
  }
 ],
 "metadata": {
  "kernelspec": {
   "display_name": "Python 3",
   "language": "python",
   "name": "python3"
  },
  "language_info": {
   "codemirror_mode": {
    "name": "ipython",
    "version": 3
   },
   "file_extension": ".py",
   "mimetype": "text/x-python",
   "name": "python",
   "nbconvert_exporter": "python",
   "pygments_lexer": "ipython3",
   "version": "3.12.4"
  }
 },
 "nbformat": 4,
 "nbformat_minor": 5
}
