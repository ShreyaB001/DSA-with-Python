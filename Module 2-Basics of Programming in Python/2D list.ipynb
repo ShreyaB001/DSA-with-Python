{
 "cells": [
  {
   "cell_type": "code",
   "execution_count": 1,
   "metadata": {},
   "outputs": [
    {
     "name": "stdout",
     "output_type": "stream",
     "text": [
      "[[1, 2, 3], [4, 5, 6], [7, 8, 9]]\n"
     ]
    }
   ],
   "source": [
    "# creating a 2d list\n",
    "grid=[[1,2,3],[4,5,6],[7,8,9]]\n",
    "print(grid)"
   ]
  },
  {
   "cell_type": "markdown",
   "metadata": {},
   "source": [
    "Accessing the list"
   ]
  },
  {
   "cell_type": "code",
   "execution_count": 7,
   "metadata": {},
   "outputs": [
    {
     "name": "stdout",
     "output_type": "stream",
     "text": [
      "[1, 2, 3]\n"
     ]
    }
   ],
   "source": [
    "#accessing the 1st row\n",
    "grid=[[1,2,3],[4,5,6],[7,8,9]]\n",
    "print(grid[0])"
   ]
  },
  {
   "cell_type": "code",
   "execution_count": 9,
   "metadata": {},
   "outputs": [
    {
     "name": "stdout",
     "output_type": "stream",
     "text": [
      "2\n"
     ]
    }
   ],
   "source": [
    "# 1st row's 2nd element\n",
    "grid=[[1,2,3],[4,5,6],[7,8,9]]\n",
    "print(grid[0][1])"
   ]
  },
  {
   "cell_type": "code",
   "execution_count": 13,
   "metadata": {},
   "outputs": [
    {
     "name": "stdout",
     "output_type": "stream",
     "text": [
      "[[1, 2, 3], [4, 5, 6]]\n"
     ]
    }
   ],
   "source": [
    "#taking input\n",
    "n=int(input())\n",
    "m=int(input())\n",
    "\n",
    "grid=[]\n",
    "for i in range(n):\n",
    "    templist=input().split()\n",
    "    for j in range(m):\n",
    "        templist[j]=int(templist[j])\n",
    "    grid.append(templist)\n",
    "print(grid)"
   ]
  },
  {
   "cell_type": "code",
   "execution_count": 1,
   "metadata": {},
   "outputs": [
    {
     "name": "stdout",
     "output_type": "stream",
     "text": [
      "[[1, 2, 3], [4, 5, 6]]\n"
     ]
    }
   ],
   "source": [
    "# another way\n",
    "n=int(input())\n",
    "m=int(input())\n",
    "\n",
    "grid=[]\n",
    "for i in range(n):\n",
    "    templist=[int(ele) for ele in input().split()]\n",
    "    grid.append(templist)\n",
    "print(grid)"
   ]
  },
  {
   "cell_type": "code",
   "execution_count": 2,
   "metadata": {},
   "outputs": [
    {
     "name": "stdout",
     "output_type": "stream",
     "text": [
      "[[1, 2, 3], [4, 5, 6]]\n"
     ]
    }
   ],
   "source": [
    "#Directly append the list comprehension\n",
    "n=int(input())\n",
    "m=int(input())\n",
    "\n",
    "grid=[]\n",
    "for i in range(n):\n",
    "    grid.append([int(ele) for ele in input().split()])\n",
    "    \n",
    "print(grid)"
   ]
  },
  {
   "cell_type": "code",
   "execution_count": null,
   "metadata": {},
   "outputs": [
    {
     "name": "stdout",
     "output_type": "stream",
     "text": [
      "[[1, 2, 3], [4, 5, 6], [7, 8, 9]]\n",
      "[1, 5, 9]\n"
     ]
    }
   ],
   "source": [
    "# print the main diagonal \n",
    "n=int(input())\n",
    "matrix=[]\n",
    "for i in range(n):\n",
    "    matrix.append([int(ele) for ele in input().split()])\n",
    "print(matrix)\n",
    "trace=[]\n",
    "for i in range(n):\n",
    "    for j in range(n):\n",
    "        if i==j:\n",
    "            trace.append(matrix[i][j])\n",
    "print(trace)"
   ]
  },
  {
   "cell_type": "code",
   "execution_count": 3,
   "metadata": {},
   "outputs": [
    {
     "name": "stdout",
     "output_type": "stream",
     "text": [
      "[[1, 2, 3], [4, 5, 6], [7, 8, 9]]\n",
      "[1, 5, 9]\n"
     ]
    }
   ],
   "source": [
    "#another way\n",
    "n=int(input())\n",
    "matrix=[]\n",
    "for i in range(n):\n",
    "    matrix.append([int(ele) for ele in input().split()])\n",
    "print(matrix)\n",
    "trace=[]\n",
    "for i in range(n):\n",
    "    trace.append(matrix[i][i])\n",
    "print(trace)"
   ]
  },
  {
   "cell_type": "code",
   "execution_count": 6,
   "metadata": {},
   "outputs": [
    {
     "name": "stdout",
     "output_type": "stream",
     "text": [
      "[[1, 2, 3], [4, 5, 6], [7, 8, 9]]\n",
      "[1, 4, 7]\n",
      "[2, 5, 8]\n",
      "[3, 6, 9]\n"
     ]
    }
   ],
   "source": [
    "#TRANSPOSE MATRIX\n",
    "n=int(input())\n",
    "matrix=[]\n",
    "for i in range(n):\n",
    "    matrix.append([int(ele) for ele in input().split()])\n",
    "print(matrix)\n",
    "for i in range(n):\n",
    "    for j in range(n):\n",
    "        if j>i:\n",
    "            temp=matrix[j][i]\n",
    "            matrix[j][i]=matrix[i][j]\n",
    "            matrix[i][j]=temp\n",
    "\n",
    "for i in range(n):\n",
    "    print(matrix[i])"
   ]
  }
 ],
 "metadata": {
  "kernelspec": {
   "display_name": "Python 3",
   "language": "python",
   "name": "python3"
  },
  "language_info": {
   "codemirror_mode": {
    "name": "ipython",
    "version": 3
   },
   "file_extension": ".py",
   "mimetype": "text/x-python",
   "name": "python",
   "nbconvert_exporter": "python",
   "pygments_lexer": "ipython3",
   "version": "3.12.4"
  }
 },
 "nbformat": 4,
 "nbformat_minor": 2
}
