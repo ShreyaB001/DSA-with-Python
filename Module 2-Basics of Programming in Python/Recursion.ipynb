{
 "cells": [
  {
   "cell_type": "code",
   "execution_count": 2,
   "metadata": {},
   "outputs": [
    {
     "name": "stdout",
     "output_type": "stream",
     "text": [
      "function 1\n",
      "function 2\n",
      "function 2\n"
     ]
    }
   ],
   "source": [
    "def myfunc1():\n",
    "    print(\"function 1\")\n",
    "    myfunc2()\n",
    "def myfunc2():\n",
    "    print(\"function 2\")\n",
    "\n",
    "myfunc1()\n",
    "myfunc2()\n",
    "\n"
   ]
  },
  {
   "cell_type": "code",
   "execution_count": 1,
   "metadata": {},
   "outputs": [
    {
     "name": "stdout",
     "output_type": "stream",
     "text": [
      "function 2\n",
      "function 1\n",
      "function 2\n"
     ]
    }
   ],
   "source": [
    "def myfunc1():\n",
    "    myfunc2()\n",
    "    print(\"function 1\")\n",
    "def myfunc2():\n",
    "    print(\"function 2\")\n",
    "\n",
    "myfunc1()\n",
    "myfunc2()\n"
   ]
  },
  {
   "cell_type": "code",
   "execution_count": 5,
   "metadata": {},
   "outputs": [
    {
     "name": "stdout",
     "output_type": "stream",
     "text": [
      "3\n",
      "2\n",
      "1\n"
     ]
    }
   ],
   "source": [
    "def myfunc1(x):\n",
    "    if (x==0):\n",
    "        return\n",
    "    print(x)\n",
    "    myfunc1(x-1)\n",
    "   \n",
    "\n",
    "\n",
    "myfunc1(3)"
   ]
  },
  {
   "cell_type": "code",
   "execution_count": 6,
   "metadata": {},
   "outputs": [
    {
     "name": "stdout",
     "output_type": "stream",
     "text": [
      "6\n"
     ]
    }
   ],
   "source": [
    "def fact(n):\n",
    "    #base condition\n",
    "    if n==1 or n==0:\n",
    "        return 1\n",
    "\n",
    "    return n*fact(n-1)\n",
    "\n",
    "ans=fact(3)\n",
    "print(ans)"
   ]
  },
  {
   "cell_type": "code",
   "execution_count": 7,
   "metadata": {},
   "outputs": [
    {
     "name": "stdout",
     "output_type": "stream",
     "text": [
      "2\n"
     ]
    }
   ],
   "source": [
    "def fibo(n):\n",
    "    if n==1 or n==2:\n",
    "        return 1\n",
    "    return fibo(n-1)+fibo(n-2)\n",
    "ans=fibo(3)\n",
    "print(ans)"
   ]
  },
  {
   "cell_type": "code",
   "execution_count": 9,
   "metadata": {},
   "outputs": [],
   "source": [
    "# def function(x):\n",
    "#     base condition\n",
    "#     if condition:\n",
    "\n",
    "#     return recursive eqn"
   ]
  }
 ],
 "metadata": {
  "kernelspec": {
   "display_name": "Python 3",
   "language": "python",
   "name": "python3"
  },
  "language_info": {
   "codemirror_mode": {
    "name": "ipython",
    "version": 3
   },
   "file_extension": ".py",
   "mimetype": "text/x-python",
   "name": "python",
   "nbconvert_exporter": "python",
   "pygments_lexer": "ipython3",
   "version": "3.12.4"
  }
 },
 "nbformat": 4,
 "nbformat_minor": 2
}
