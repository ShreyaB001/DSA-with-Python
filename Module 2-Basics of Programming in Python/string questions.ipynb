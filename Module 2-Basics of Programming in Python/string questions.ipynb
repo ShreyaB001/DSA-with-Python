{
 "cells": [
  {
   "cell_type": "code",
   "execution_count": 5,
   "metadata": {},
   "outputs": [
    {
     "name": "stdout",
     "output_type": "stream",
     "text": [
      "is not  a palindrome\n"
     ]
    }
   ],
   "source": [
    "#Checking Palindrome\n",
    "s=input()\n",
    "isPalindrome=True\n",
    "for i in range(len(s)//2):\n",
    "    if s[i]!=s[len(s)-i-1]:\n",
    "        isPalindrome=False\n",
    "if isPalindrome:\n",
    "    print(\"is a palindrome\")\n",
    "else:\n",
    "    print(\"is not  a palindrome\")"
   ]
  },
  {
   "cell_type": "code",
   "execution_count": 12,
   "metadata": {},
   "outputs": [
    {
     "name": "stdout",
     "output_type": "stream",
     "text": [
      "11\n",
      "11\n"
     ]
    }
   ],
   "source": [
    "#Split binary string into 2\n",
    "\n",
    "givenstr=input()\n",
    "countOne=0\n",
    "countZero=0\n",
    "for i in givenstr:\n",
    "    if i=='1':\n",
    "        countOne+=1\n",
    "    else:\n",
    "        countZero+=1\n",
    "if countOne%2==1 or countZero%2==1:\n",
    "    print(\"-1\")\n",
    "else:\n",
    "    currOne=0\n",
    "    currZero=0\n",
    "    for i in range(len(givenstr)//2):\n",
    "            if givenstr[i]=='1':\n",
    "                 currOne+=1\n",
    "            else:\n",
    "                 currZero+=1\n",
    "    if currOne == countOne/2 and currZero == countZero/2:\n",
    "         for i in range(len(givenstr)//2):\n",
    "              print(givenstr[i],end=\"\")\n",
    "         print(\"\")\n",
    "         for i in range(len(givenstr)//2, len(givenstr)):\n",
    "                print(givenstr[i],end=\"\")\n",
    "         print(\"\")\n",
    "    else:\n",
    "         print(\"-1\")"
   ]
  }
 ],
 "metadata": {
  "kernelspec": {
   "display_name": "Python 3",
   "language": "python",
   "name": "python3"
  },
  "language_info": {
   "codemirror_mode": {
    "name": "ipython",
    "version": 3
   },
   "file_extension": ".py",
   "mimetype": "text/x-python",
   "name": "python",
   "nbconvert_exporter": "python",
   "pygments_lexer": "ipython3",
   "version": "3.12.4"
  }
 },
 "nbformat": 4,
 "nbformat_minor": 2
}
