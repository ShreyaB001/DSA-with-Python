{
 "cells": [
  {
   "cell_type": "markdown",
   "metadata": {},
   "source": [
    "NEWMERIC"
   ]
  },
  {
   "cell_type": "code",
   "execution_count": 1,
   "metadata": {},
   "outputs": [
    {
     "name": "stdout",
     "output_type": "stream",
     "text": [
      "90 <class 'int'>\n",
      "5.31 <class 'float'>\n",
      "(4+8j) <class 'complex'>\n"
     ]
    }
   ],
   "source": [
    "myvar1=90\n",
    "print(myvar1, type(myvar1))\n",
    "myvar2=5.31\n",
    "print(myvar2, type(myvar2))\n",
    "myvar3=4+8j\n",
    "print(myvar3, type(myvar3))"
   ]
  },
  {
   "cell_type": "markdown",
   "metadata": {},
   "source": [
    "SEQUESE"
   ]
  },
  {
   "cell_type": "code",
   "execution_count": 2,
   "metadata": {},
   "outputs": [
    {
     "name": "stdout",
     "output_type": "stream",
     "text": [
      "abcd\n",
      "asdf\n",
      "   shdbdb shbks\n",
      " <class 'str'>\n"
     ]
    }
   ],
   "source": [
    "myvar1='''abcd\n",
    "asdf\n",
    "   shdbdb shbks\n",
    "'''\n",
    "print(myvar1,type(myvar1))"
   ]
  },
  {
   "cell_type": "code",
   "execution_count": 3,
   "metadata": {},
   "outputs": [
    {
     "name": "stdout",
     "output_type": "stream",
     "text": [
      "[10, 7.8, 13, 'asd'] <class 'list'>\n"
     ]
    }
   ],
   "source": [
    "myvar2=[10,7.8,13,\"asd\"]\n",
    "print(myvar2,type(myvar2))"
   ]
  },
  {
   "cell_type": "code",
   "execution_count": 4,
   "metadata": {},
   "outputs": [
    {
     "name": "stdout",
     "output_type": "stream",
     "text": [
      "7.0 <class 'float'>\n"
     ]
    }
   ],
   "source": [
    "myvar=float(input())\n",
    "print(myvar,type(myvar))"
   ]
  }
 ],
 "metadata": {
  "kernelspec": {
   "display_name": "Python 3",
   "language": "python",
   "name": "python3"
  },
  "language_info": {
   "codemirror_mode": {
    "name": "ipython",
    "version": 3
   },
   "file_extension": ".py",
   "mimetype": "text/x-python",
   "name": "python",
   "nbconvert_exporter": "python",
   "pygments_lexer": "ipython3",
   "version": "3.12.4"
  }
 },
 "nbformat": 4,
 "nbformat_minor": 2
}
