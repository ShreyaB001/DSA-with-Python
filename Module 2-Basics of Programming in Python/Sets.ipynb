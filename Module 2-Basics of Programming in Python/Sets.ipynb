{
 "cells": [
  {
   "cell_type": "code",
   "execution_count": 2,
   "metadata": {},
   "outputs": [
    {
     "name": "stdout",
     "output_type": "stream",
     "text": [
      "{1, 2, 3, 4} <class 'set'>\n"
     ]
    }
   ],
   "source": [
    "myset={1,2,3,4}\n",
    "print(myset,type(myset))"
   ]
  },
  {
   "cell_type": "code",
   "execution_count": 4,
   "metadata": {},
   "outputs": [
    {
     "name": "stdout",
     "output_type": "stream",
     "text": [
      "{1, 2, 3, 4} <class 'set'>\n"
     ]
    }
   ],
   "source": [
    "#doesn't support duplicate value\n",
    "myset={1,2,3,3,4,4,4,4}\n",
    "print(myset,type(myset))"
   ]
  },
  {
   "cell_type": "code",
   "execution_count": 10,
   "metadata": {},
   "outputs": [
    {
     "name": "stdout",
     "output_type": "stream",
     "text": [
      "{False, 1, 2, 3, 4, 'ASD'} <class 'set'>\n"
     ]
    }
   ],
   "source": [
    "#store diff data type except which is mutable And True isn't being added because 1 is present and when we convert True into numbers it returns 1\n",
    "myset={1,2,3,4,False,True,\"ASD\",}\n",
    "print(myset,type(myset))"
   ]
  },
  {
   "cell_type": "code",
   "execution_count": 6,
   "metadata": {},
   "outputs": [
    {
     "name": "stdout",
     "output_type": "stream",
     "text": [
      "1\n",
      "2\n",
      "3\n",
      "4\n",
      "ASD\n"
     ]
    }
   ],
   "source": [
    "myset={1,2,3,4,True,\"ASD\",}\n",
    "for value in myset:\n",
    "    print(value)"
   ]
  },
  {
   "cell_type": "code",
   "execution_count": 7,
   "metadata": {},
   "outputs": [
    {
     "name": "stdout",
     "output_type": "stream",
     "text": [
      "{1, 2, 3, 4, 'ASD', 'zxc'}\n"
     ]
    }
   ],
   "source": [
    "myset={1,2,3,4,True,\"ASD\",}\n",
    "\n",
    "myset.add(\"zxc\")\n",
    "print(myset)"
   ]
  },
  {
   "cell_type": "code",
   "execution_count": 11,
   "metadata": {},
   "outputs": [
    {
     "name": "stdout",
     "output_type": "stream",
     "text": [
      "{True, 2, 3, 4, 'ASD', 6, 7, 8}\n"
     ]
    }
   ],
   "source": [
    "myset={2,3,4,True,\"ASD\",}\n",
    "myset2={6,7,8}\n",
    "myset.update(myset2)\n",
    "print(myset)"
   ]
  },
  {
   "cell_type": "code",
   "execution_count": 12,
   "metadata": {},
   "outputs": [
    {
     "name": "stdout",
     "output_type": "stream",
     "text": [
      "{1, 3, 4, 'ASD'}\n"
     ]
    }
   ],
   "source": [
    "myset={1,2,3,4,True,\"ASD\",}\n",
    "myset.remove(2)\n",
    "print(myset)"
   ]
  },
  {
   "cell_type": "code",
   "execution_count": 13,
   "metadata": {},
   "outputs": [
    {
     "name": "stdout",
     "output_type": "stream",
     "text": [
      "{1, 3, 4, 'ASD'}\n"
     ]
    }
   ],
   "source": [
    "myset={1,2,3,4,True,\"ASD\",}\n",
    "myset.discard(2)\n",
    "print(myset)"
   ]
  },
  {
   "cell_type": "code",
   "execution_count": 16,
   "metadata": {},
   "outputs": [
    {
     "name": "stdout",
     "output_type": "stream",
     "text": [
      "{True, 2, 3, 4, 'ASD'}\n",
      "{2, 3, 4, 'ASD'}\n"
     ]
    }
   ],
   "source": [
    "myset={2,3,4,True,\"ASD\",}\n",
    "print(myset)\n",
    "myset.pop()\n",
    "print(myset)"
   ]
  },
  {
   "cell_type": "code",
   "execution_count": 17,
   "metadata": {},
   "outputs": [
    {
     "name": "stdout",
     "output_type": "stream",
     "text": [
      "{True, 2, 3, 4, 'ASD'}\n",
      "set()\n"
     ]
    }
   ],
   "source": [
    "myset={2,3,4,True,\"ASD\",}\n",
    "print(myset)\n",
    "myset.clear()\n",
    "print(myset)"
   ]
  }
 ],
 "metadata": {
  "kernelspec": {
   "display_name": "Python 3",
   "language": "python",
   "name": "python3"
  },
  "language_info": {
   "codemirror_mode": {
    "name": "ipython",
    "version": 3
   },
   "file_extension": ".py",
   "mimetype": "text/x-python",
   "name": "python",
   "nbconvert_exporter": "python",
   "pygments_lexer": "ipython3",
   "version": "3.12.4"
  }
 },
 "nbformat": 4,
 "nbformat_minor": 2
}
