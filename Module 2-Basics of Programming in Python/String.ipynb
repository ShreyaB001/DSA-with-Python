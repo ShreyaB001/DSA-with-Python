{
 "cells": [
  {
   "cell_type": "code",
   "execution_count": 3,
   "metadata": {},
   "outputs": [
    {
     "name": "stdout",
     "output_type": "stream",
     "text": [
      "my \n",
      " name\n"
     ]
    }
   ],
   "source": [
    "mystr='''my \n",
    " name'''\n",
    "print(mystr)"
   ]
  },
  {
   "cell_type": "code",
   "execution_count": 5,
   "metadata": {},
   "outputs": [
    {
     "name": "stdout",
     "output_type": "stream",
     "text": [
      "hhd jdjwhs\n"
     ]
    }
   ],
   "source": [
    "mystr=input()\n",
    "print(mystr)"
   ]
  },
  {
   "cell_type": "code",
   "execution_count": 12,
   "metadata": {},
   "outputs": [
    {
     "name": "stdout",
     "output_type": "stream",
     "text": [
      "1\n"
     ]
    }
   ],
   "source": [
    "mystr=\"banana\"\n",
    "print(mystr.count(\"a\",0,2))"
   ]
  },
  {
   "cell_type": "code",
   "execution_count": 6,
   "metadata": {},
   "outputs": [
    {
     "name": "stdout",
     "output_type": "stream",
     "text": [
      "['banana', 'apple', 'mango']\n"
     ]
    }
   ],
   "source": [
    "mystr=\"banana apple mango\"\n",
    "print(mystr.split())"
   ]
  },
  {
   "cell_type": "code",
   "execution_count": 15,
   "metadata": {},
   "outputs": [
    {
     "name": "stdout",
     "output_type": "stream",
     "text": [
      "a banana apple mango a\n",
      "a banana apple mango a\n",
      " banana apple mango \n"
     ]
    }
   ],
   "source": [
    "mystr=\"a banana apple mango a\"\n",
    "print(mystr.strip())  # remove spaces from before and after the string\n",
    "print(mystr)\n",
    "print(mystr.strip(\"a\"))  #remove a from before and after the string"
   ]
  },
  {
   "cell_type": "markdown",
   "metadata": {},
   "source": [
    "ASCII VALUE\n",
    "\n",
    "A=65 ....... Z=90\n",
    "a=97........ z=122"
   ]
  },
  {
   "cell_type": "code",
   "execution_count": 24,
   "metadata": {},
   "outputs": [
    {
     "name": "stdout",
     "output_type": "stream",
     "text": [
      "z 122 }\n"
     ]
    }
   ],
   "source": [
    "X='z'\n",
    "print(X,ord(X), chr(ord(X)+3))    #ord(X): This converts the character 'Z' into its ASCII value AND chr() converts the ASCII value back to a character\n"
   ]
  },
  {
   "cell_type": "code",
   "execution_count": 26,
   "metadata": {},
   "outputs": [
    {
     "name": "stdout",
     "output_type": "stream",
     "text": [
      "aaggbbhh\n"
     ]
    }
   ],
   "source": [
    "mystr=\"AAggBBhh\"\n",
    "\n",
    "ans= \"\"\n",
    "for i in range(len(mystr)):\n",
    "    if ord(mystr[i])>90:\n",
    "        ans+=mystr[i]\n",
    "    else:\n",
    "        ans+=chr(ord(mystr[i]) + ord('a')-ord('A'))\n",
    "print(ans)"
   ]
  }
 ],
 "metadata": {
  "kernelspec": {
   "display_name": "Python 3",
   "language": "python",
   "name": "python3"
  },
  "language_info": {
   "codemirror_mode": {
    "name": "ipython",
    "version": 3
   },
   "file_extension": ".py",
   "mimetype": "text/x-python",
   "name": "python",
   "nbconvert_exporter": "python",
   "pygments_lexer": "ipython3",
   "version": "3.12.4"
  }
 },
 "nbformat": 4,
 "nbformat_minor": 2
}
