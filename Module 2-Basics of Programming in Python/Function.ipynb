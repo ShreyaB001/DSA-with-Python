{
 "cells": [
  {
   "cell_type": "code",
   "execution_count": 1,
   "metadata": {},
   "outputs": [
    {
     "name": "stdout",
     "output_type": "stream",
     "text": [
      "hello\n"
     ]
    }
   ],
   "source": [
    "#defination\n",
    "def myfun():\n",
    "    print(\"hello\")\n",
    "#calling\n",
    "myfun()"
   ]
  },
  {
   "cell_type": "code",
   "execution_count": 4,
   "metadata": {},
   "outputs": [
    {
     "name": "stdout",
     "output_type": "stream",
     "text": [
      "3\n",
      "4\n",
      "7\n"
     ]
    }
   ],
   "source": [
    "#defination\n",
    "#parameters\n",
    "def sum(a,b):\n",
    "    print(a+b)\n",
    "#calling\n",
    "x=int(input())\n",
    "y=int(input())\n",
    "#args\n",
    "sum(x,y)"
   ]
  },
  {
   "cell_type": "code",
   "execution_count": 14,
   "metadata": {},
   "outputs": [
    {
     "name": "stdout",
     "output_type": "stream",
     "text": [
      "(3, 4, 8) <class 'tuple'>\n",
      "(3, 4) <class 'tuple'>\n"
     ]
    }
   ],
   "source": [
    "def sum(*number):\n",
    "    print(number,type(number))\n",
    "x=int(input())\n",
    "y=int(input())\n",
    "sum(x,y,8)\n",
    "sum(x,y)"
   ]
  },
  {
   "cell_type": "code",
   "execution_count": 13,
   "metadata": {},
   "outputs": [
    {
     "name": "stdout",
     "output_type": "stream",
     "text": [
      "23\n"
     ]
    }
   ],
   "source": [
    "def sum(*number):\n",
    "    ans=0\n",
    "    for i in number:\n",
    "        ans+=i\n",
    "    print(ans)\n",
    "x=int(input())\n",
    "y=int(input())\n",
    "sum(x,y,8)"
   ]
  },
  {
   "cell_type": "code",
   "execution_count": 15,
   "metadata": {},
   "outputs": [
    {
     "name": "stdout",
     "output_type": "stream",
     "text": [
      "23 15\n"
     ]
    }
   ],
   "source": [
    "def sum(*number):\n",
    "    ans=0\n",
    "    for i in number:\n",
    "        ans+=i\n",
    "    return ans\n",
    "x=int(input())\n",
    "y=int(input())\n",
    "a=sum(x,y,8)\n",
    "b=sum(x,y)\n",
    "print(a,b)"
   ]
  }
 ],
 "metadata": {
  "kernelspec": {
   "display_name": "Python 3",
   "language": "python",
   "name": "python3"
  },
  "language_info": {
   "codemirror_mode": {
    "name": "ipython",
    "version": 3
   },
   "file_extension": ".py",
   "mimetype": "text/x-python",
   "name": "python",
   "nbconvert_exporter": "python",
   "pygments_lexer": "ipython3",
   "version": "3.12.4"
  }
 },
 "nbformat": 4,
 "nbformat_minor": 2
}
