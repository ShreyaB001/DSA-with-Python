{
 "cells": [
  {
   "cell_type": "code",
   "execution_count": 4,
   "metadata": {},
   "outputs": [
    {
     "name": "stdout",
     "output_type": "stream",
     "text": [
      "10\n"
     ]
    }
   ],
   "source": [
    "list=[]\n",
    "sum=0\n",
    "n=int(input())\n",
    "for i in range(n):\n",
    "    ele=int(input())\n",
    "    list.append(ele)\n",
    "for j in list:\n",
    "    sum+=j\n",
    "print(sum)\n"
   ]
  },
  {
   "cell_type": "code",
   "execution_count": 2,
   "metadata": {},
   "outputs": [
    {
     "name": "stdout",
     "output_type": "stream",
     "text": [
      "9 1\n"
     ]
    }
   ],
   "source": [
    "# list=[]\n",
    "# n=int(input())\n",
    "# for i in range(n):\n",
    "#     ele=int(input())\n",
    "#     list.append(ele)\n",
    "# print(max(list))\n",
    "# print(min(list))\n",
    "\n",
    "list=[]\n",
    "n=int(input())\n",
    "for i in range(n):\n",
    "    ele=int(input())\n",
    "    list.append(ele)\n",
    "max=list[0]\n",
    "min=list[0]\n",
    "for j in list:\n",
    "    if j<min:\n",
    "        min=j\n",
    "    if j>max:\n",
    "        max=j\n",
    "print(max,min)"
   ]
  },
  {
   "cell_type": "code",
   "execution_count": 9,
   "metadata": {},
   "outputs": [
    {
     "name": "stdout",
     "output_type": "stream",
     "text": [
      "4.2\n",
      "[1, 4, 5, 6, 5]\n"
     ]
    }
   ],
   "source": [
    "list=[]\n",
    "n=int(input())\n",
    "if n==0:\n",
    "    print(\"can't possible\")\n",
    "else:\n",
    "    for i in range(n):\n",
    "        ele=int(input())\n",
    "        list.append(ele)\n",
    "    total=sum(list)\n",
    "    print(total/n)\n",
    "\n",
    "\n",
    "print(list)"
   ]
  },
  {
   "cell_type": "code",
   "execution_count": 8,
   "metadata": {},
   "outputs": [
    {
     "name": "stdout",
     "output_type": "stream",
     "text": [
      "5\n",
      "[1, 4, 5, 6, 7]\n"
     ]
    }
   ],
   "source": [
    "list=[]\n",
    "n=int(input())\n",
    "if n==0:\n",
    "    print(\"can't possible\")\n",
    "else:\n",
    "    for i in range(n):\n",
    "        ele=int(input())\n",
    "        list.append(ele)\n",
    "    list.sort()\n",
    "    if n%2==1:\n",
    "        print(list[n//2])\n",
    "    else:\n",
    "       ele1=list[n//2 - 1]\n",
    "       ele2=list[n//2]\n",
    "       print((ele1+ele2)/2)\n",
    "print(list)"
   ]
  },
  {
   "cell_type": "code",
   "execution_count": 11,
   "metadata": {},
   "outputs": [
    {
     "name": "stdout",
     "output_type": "stream",
     "text": [
      "3 2\n",
      "[1, 3, 4, 3, 5, 4, 5]\n"
     ]
    }
   ],
   "source": [
    "list=[]\n",
    "n=int(input())\n",
    "if n==0:\n",
    "    print(\"can't possible\")\n",
    "else:\n",
    "    for i in range(n):\n",
    "        ele=int(input())\n",
    "        list.append(ele)\n",
    "    maxcount=0\n",
    "    maxele=list[0]\n",
    "    for currele in list:\n",
    "        currcount=0\n",
    "        for eachele in list:\n",
    "            if eachele==currele:\n",
    "                currcount+=1\n",
    "        if currcount>maxcount:\n",
    "            maxcount=currcount\n",
    "            maxele=currele\n",
    "    print(maxele, maxcount)\n",
    "print(list)"
   ]
  },
  {
   "cell_type": "code",
   "execution_count": 13,
   "metadata": {},
   "outputs": [
    {
     "name": "stdout",
     "output_type": "stream",
     "text": [
      "3 2\n",
      "[1, 3, 3, 4, 4, 5, 5]\n"
     ]
    }
   ],
   "source": [
    "list=[]\n",
    "n=int(input())\n",
    "if n==0:\n",
    "    print(\"can't possible\")\n",
    "else:\n",
    "    for i in range(n):\n",
    "        ele=int(input())\n",
    "        list.append(ele)\n",
    "list.sort()\n",
    "maxcount=0\n",
    "maxele=list[0]\n",
    "currcount=1\n",
    "\n",
    "for i in range(n-1):\n",
    "    if list[i]==list[i+1]:\n",
    "        currcount+=1\n",
    "    else:\n",
    "        if currcount>maxcount:\n",
    "            maxcount=currcount\n",
    "            maxele=list[i]\n",
    "        currcount=1\n",
    "if currcount>maxcount:\n",
    "    maxcount=currcount\n",
    "    maxele=list[-1]\n",
    "print(maxele, maxcount)\n",
    "print(list)"
   ]
  }
 ],
 "metadata": {
  "kernelspec": {
   "display_name": "Python 3",
   "language": "python",
   "name": "python3"
  },
  "language_info": {
   "codemirror_mode": {
    "name": "ipython",
    "version": 3
   },
   "file_extension": ".py",
   "mimetype": "text/x-python",
   "name": "python",
   "nbconvert_exporter": "python",
   "pygments_lexer": "ipython3",
   "version": "3.12.4"
  }
 },
 "nbformat": 4,
 "nbformat_minor": 2
}
