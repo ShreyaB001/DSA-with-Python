{
 "cells": [
  {
   "cell_type": "code",
   "execution_count": 2,
   "metadata": {},
   "outputs": [
    {
     "name": "stdout",
     "output_type": "stream",
     "text": [
      "(1, 2, 3, 'asd') <class 'tuple'>\n"
     ]
    }
   ],
   "source": [
    "mytup=( 1,2,3,\"asd\" )\n",
    "print(mytup,type(mytup))"
   ]
  },
  {
   "cell_type": "code",
   "execution_count": 3,
   "metadata": {},
   "outputs": [
    {
     "name": "stdout",
     "output_type": "stream",
     "text": [
      "2\n"
     ]
    }
   ],
   "source": [
    "mytup=( 1,2,3,\"asd\" )\n",
    "print(mytup[1])"
   ]
  },
  {
   "cell_type": "code",
   "execution_count": 4,
   "metadata": {},
   "outputs": [
    {
     "name": "stdout",
     "output_type": "stream",
     "text": [
      "(2, 3)\n"
     ]
    }
   ],
   "source": [
    "mytup=( 1,2,3,\"asd\" )\n",
    "print(mytup[1:3])"
   ]
  },
  {
   "cell_type": "code",
   "execution_count": 5,
   "metadata": {},
   "outputs": [
    {
     "name": "stdout",
     "output_type": "stream",
     "text": [
      "1\n",
      "2\n",
      "3\n",
      "asd\n"
     ]
    }
   ],
   "source": [
    "mytup=( 1,2,3,\"asd\" )\n",
    "for value in mytup:\n",
    "    print(value)"
   ]
  },
  {
   "cell_type": "code",
   "execution_count": 6,
   "metadata": {},
   "outputs": [
    {
     "name": "stdout",
     "output_type": "stream",
     "text": [
      "1\n",
      "2\n",
      "3\n",
      "asd\n"
     ]
    }
   ],
   "source": [
    "mytup=( 1,2,3,\"asd\" )\n",
    "for indx in range(len(mytup)):\n",
    "    print(mytup[indx])"
   ]
  },
  {
   "cell_type": "code",
   "execution_count": 8,
   "metadata": {},
   "outputs": [
    {
     "name": "stdout",
     "output_type": "stream",
     "text": [
      "(6, 2, 3, 'asd')\n"
     ]
    }
   ],
   "source": [
    "mytup=( 1,2,3,\"asd\" )\n",
    "temp=list(mytup)\n",
    "temp[0]=6\n",
    "mytup=tuple(temp)\n",
    "print(mytup)"
   ]
  },
  {
   "cell_type": "code",
   "execution_count": 10,
   "metadata": {},
   "outputs": [
    {
     "name": "stdout",
     "output_type": "stream",
     "text": [
      "(1, 2, 3, 'asd', 4, 6)\n"
     ]
    }
   ],
   "source": [
    "mytup=( 1,2,3,\"asd\" )\n",
    "mytup2=(4,6)\n",
    "mytup+=mytup2\n",
    "print(mytup)"
   ]
  },
  {
   "cell_type": "code",
   "execution_count": 13,
   "metadata": {},
   "outputs": [
    {
     "name": "stdout",
     "output_type": "stream",
     "text": [
      "1 2 3\n"
     ]
    }
   ],
   "source": [
    "mytup=( 1,2,3)\n",
    "(first,second,third)=mytup\n",
    "print(first,second,third)\n"
   ]
  },
  {
   "cell_type": "code",
   "execution_count": 16,
   "metadata": {},
   "outputs": [
    {
     "name": "stdout",
     "output_type": "stream",
     "text": [
      "1 [2, 3, 4, 5] <class 'list'>\n"
     ]
    }
   ],
   "source": [
    "mytup=( 1,2,3,4,5)\n",
    "(first,*second)=mytup\n",
    "print(first,second,type(second))\n"
   ]
  }
 ],
 "metadata": {
  "kernelspec": {
   "display_name": "Python 3",
   "language": "python",
   "name": "python3"
  },
  "language_info": {
   "codemirror_mode": {
    "name": "ipython",
    "version": 3
   },
   "file_extension": ".py",
   "mimetype": "text/x-python",
   "name": "python",
   "nbconvert_exporter": "python",
   "pygments_lexer": "ipython3",
   "version": "3.12.4"
  }
 },
 "nbformat": 4,
 "nbformat_minor": 2
}
