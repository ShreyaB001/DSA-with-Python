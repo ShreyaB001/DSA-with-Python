{
 "cells": [
  {
   "cell_type": "code",
   "execution_count": 1,
   "metadata": {},
   "outputs": [
    {
     "name": "stdout",
     "output_type": "stream",
     "text": [
      "{'student1': 49, 'student2': 50}\n"
     ]
    }
   ],
   "source": [
    "mydict={ \"student1\":49 ,\"student2\":50 }\n",
    "print(mydict)"
   ]
  },
  {
   "cell_type": "code",
   "execution_count": 4,
   "metadata": {},
   "outputs": [
    {
     "name": "stdout",
     "output_type": "stream",
     "text": [
      "49\n"
     ]
    }
   ],
   "source": [
    "mydict={ \"student1\":49 ,\"student2\":50 }\n",
    "print(mydict[\"student1\"])"
   ]
  },
  {
   "cell_type": "code",
   "execution_count": 6,
   "metadata": {},
   "outputs": [
    {
     "name": "stdout",
     "output_type": "stream",
     "text": [
      "None\n"
     ]
    }
   ],
   "source": [
    "mydict={ \"student1\":49 ,\"student2\":50 }\n",
    "print(mydict.get(\"student3\"))"
   ]
  },
  {
   "cell_type": "code",
   "execution_count": 8,
   "metadata": {},
   "outputs": [
    {
     "name": "stdout",
     "output_type": "stream",
     "text": [
      "{'student1': 49, 'student2': 48}\n"
     ]
    }
   ],
   "source": [
    "mydict={ \"student1\":49 ,\"student2\":50 }\n",
    "mydict[\"student2\"]=48 #reassign a new value or add a new value\n",
    "print(mydict)"
   ]
  },
  {
   "cell_type": "code",
   "execution_count": 10,
   "metadata": {},
   "outputs": [
    {
     "name": "stdout",
     "output_type": "stream",
     "text": [
      "student1 49\n",
      "student2 50\n",
      "student3 48\n"
     ]
    }
   ],
   "source": [
    "mydict={ \"student1\":49 ,\"student2\":50 ,\"student3\":48}\n",
    "for key in mydict:\n",
    "    print(key,mydict[key])"
   ]
  },
  {
   "cell_type": "code",
   "execution_count": null,
   "metadata": {},
   "outputs": [
    {
     "name": "stdout",
     "output_type": "stream",
     "text": [
      "student1 49\n",
      "student2 50\n",
      "student3 48\n"
     ]
    }
   ],
   "source": [
    "mydict={ \"student1\":49 ,\"student2\":50 ,\"student3\":48}\n",
    "for key in mydict.keys():\n",
    "    print(key,mydict[key])"
   ]
  },
  {
   "cell_type": "code",
   "execution_count": 16,
   "metadata": {},
   "outputs": [
    {
     "name": "stdout",
     "output_type": "stream",
     "text": [
      "49\n",
      "50\n",
      "48\n"
     ]
    }
   ],
   "source": [
    "mydict={ \"student1\":49 ,\"student2\":50 ,\"student3\":48}\n",
    "for  value in mydict.values():\n",
    "    print(value)"
   ]
  },
  {
   "cell_type": "code",
   "execution_count": 14,
   "metadata": {},
   "outputs": [
    {
     "name": "stdout",
     "output_type": "stream",
     "text": [
      "student1 49\n",
      "student2 50\n",
      "student3 48\n"
     ]
    }
   ],
   "source": [
    "mydict={ \"student1\":49 ,\"student2\":50 ,\"student3\":48}\n",
    "for key, value in mydict.items():\n",
    "    print(key,value)"
   ]
  },
  {
   "cell_type": "code",
   "execution_count": 18,
   "metadata": {},
   "outputs": [
    {
     "name": "stdout",
     "output_type": "stream",
     "text": [
      "dict_keys(['student1', 'student2', 'student3'])\n"
     ]
    }
   ],
   "source": [
    "mydict={ \"student1\":49 ,\"student2\":50 ,\"student3\":48}\n",
    "print(mydict.keys())"
   ]
  },
  {
   "cell_type": "code",
   "execution_count": 20,
   "metadata": {},
   "outputs": [
    {
     "name": "stdout",
     "output_type": "stream",
     "text": [
      "dict_values([49, 50, 48])\n"
     ]
    }
   ],
   "source": [
    "mydict={ \"student1\":49 ,\"student2\":50 ,\"student3\":48}\n",
    "print(mydict.values())"
   ]
  },
  {
   "cell_type": "code",
   "execution_count": 21,
   "metadata": {},
   "outputs": [
    {
     "name": "stdout",
     "output_type": "stream",
     "text": [
      "dict_items([('student1', 49), ('student2', 50), ('student3', 48)])\n"
     ]
    }
   ],
   "source": [
    "mydict={ \"student1\":49 ,\"student2\":50 ,\"student3\":48}\n",
    "print(mydict.items())"
   ]
  },
  {
   "cell_type": "code",
   "execution_count": 24,
   "metadata": {},
   "outputs": [
    {
     "name": "stdout",
     "output_type": "stream",
     "text": [
      "present\n"
     ]
    }
   ],
   "source": [
    "mydict={ \"student1\":49 ,\"student2\":50 ,\"student3\":48}\n",
    "targetkey=\"student1\"\n",
    "if targetkey in mydict:\n",
    "    print(\"present\")\n"
   ]
  }
 ],
 "metadata": {
  "kernelspec": {
   "display_name": "Python 3",
   "language": "python",
   "name": "python3"
  },
  "language_info": {
   "codemirror_mode": {
    "name": "ipython",
    "version": 3
   },
   "file_extension": ".py",
   "mimetype": "text/x-python",
   "name": "python",
   "nbconvert_exporter": "python",
   "pygments_lexer": "ipython3",
   "version": "3.12.4"
  }
 },
 "nbformat": 4,
 "nbformat_minor": 2
}
