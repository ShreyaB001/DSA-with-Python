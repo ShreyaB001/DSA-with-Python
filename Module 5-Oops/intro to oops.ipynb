{
 "cells": [
  {
   "cell_type": "code",
   "execution_count": 3,
   "metadata": {},
   "outputs": [
    {
     "name": "stdout",
     "output_type": "stream",
     "text": [
      "Ishaan\n"
     ]
    }
   ],
   "source": [
    "class student:\n",
    "    pass\n",
    "std1=student()\n",
    "std1.name=\"Ishaan\"\n",
    "std1.age=20\n",
    "std1.location=\"India\"\n",
    "\n",
    "print(std1.name)"
   ]
  },
  {
   "cell_type": "code",
   "execution_count": 4,
   "metadata": {},
   "outputs": [
    {
     "name": "stdout",
     "output_type": "stream",
     "text": [
      "20\n"
     ]
    }
   ],
   "source": [
    "class student:\n",
    "    name=\"\"\n",
    "    age=0\n",
    "    location=\"\"\n",
    "std1=student()\n",
    "std1.age=20\n",
    "print(std1.age)"
   ]
  },
  {
   "cell_type": "code",
   "execution_count": 10,
   "metadata": {},
   "outputs": [
    {
     "name": "stdout",
     "output_type": "stream",
     "text": [
      "shreya 24 india\n",
      "ishaan 25 usa\n"
     ]
    }
   ],
   "source": [
    "class student:\n",
    "    name=\"\"\n",
    "    age=0\n",
    "    location=\"\"\n",
    "n=int(input())\n",
    "studlist=[]\n",
    "for i in range(n):\n",
    "    currstud=student()\n",
    "    currstud.name=input()\n",
    "    currstud.age=int(input())\n",
    "    currstud.location=input()\n",
    "    studlist.append(currstud)\n",
    "for i in range(n):\n",
    "    print(studlist[i].name,studlist[i].age,studlist[i].location)\n",
    "\n"
   ]
  }
 ],
 "metadata": {
  "kernelspec": {
   "display_name": "Python 3",
   "language": "python",
   "name": "python3"
  },
  "language_info": {
   "codemirror_mode": {
    "name": "ipython",
    "version": 3
   },
   "file_extension": ".py",
   "mimetype": "text/x-python",
   "name": "python",
   "nbconvert_exporter": "python",
   "pygments_lexer": "ipython3",
   "version": "3.12.4"
  }
 },
 "nbformat": 4,
 "nbformat_minor": 2
}
