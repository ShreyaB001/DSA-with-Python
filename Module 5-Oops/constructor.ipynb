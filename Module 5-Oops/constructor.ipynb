{
 "cells": [
  {
   "cell_type": "code",
   "execution_count": 1,
   "metadata": {},
   "outputs": [
    {
     "name": "stdout",
     "output_type": "stream",
     "text": [
      "123\n"
     ]
    }
   ],
   "source": [
    "class student:\n",
    "    name=\"\"\n",
    "    age=0\n",
    "    location=\"\"\n",
    "    password=\"123\"\n",
    "std1=student()\n",
    "\n",
    "print(std1.password)"
   ]
  },
  {
   "cell_type": "markdown",
   "metadata": {},
   "source": [
    "Access Specifier are 3 types:\n",
    "1.PUBLIC :accesseble throughout the code (by default)\n",
    "2.PROTECTED : accesseble within that class and their children  (_password=\" \")\n",
    "3.PRIVATE : only available within that class  (__password=\" \")"
   ]
  },
  {
   "cell_type": "code",
   "execution_count": 2,
   "metadata": {},
   "outputs": [
    {
     "name": "stdout",
     "output_type": "stream",
     "text": [
      "123\n"
     ]
    }
   ],
   "source": [
    "class student:\n",
    "    name=\"\"\n",
    "    age=0\n",
    "    location=\"\"\n",
    "    _password=\"123\"   #protected\n",
    "std1=student()\n",
    "\n",
    "print(std1._password)  #also accesseble from objects"
   ]
  },
  {
   "cell_type": "code",
   "execution_count": 3,
   "metadata": {},
   "outputs": [
    {
     "ename": "AttributeError",
     "evalue": "'student' object has no attribute '__password'",
     "output_type": "error",
     "traceback": [
      "\u001b[1;31m---------------------------------------------------------------------------\u001b[0m",
      "\u001b[1;31mAttributeError\u001b[0m                            Traceback (most recent call last)",
      "Cell \u001b[1;32mIn[3], line 8\u001b[0m\n\u001b[0;32m      5\u001b[0m     __password\u001b[38;5;241m=\u001b[39m\u001b[38;5;124m\"\u001b[39m\u001b[38;5;124m123\u001b[39m\u001b[38;5;124m\"\u001b[39m\n\u001b[0;32m      6\u001b[0m std1\u001b[38;5;241m=\u001b[39mstudent()\n\u001b[1;32m----> 8\u001b[0m \u001b[38;5;28mprint\u001b[39m(\u001b[43mstd1\u001b[49m\u001b[38;5;241;43m.\u001b[39;49m\u001b[43m__password\u001b[49m)\n",
      "\u001b[1;31mAttributeError\u001b[0m: 'student' object has no attribute '__password'"
     ]
    }
   ],
   "source": [
    "class student:\n",
    "    name=\"\"\n",
    "    age=0\n",
    "    location=\"\"\n",
    "    __password=\"123\"  #private\n",
    "std1=student()\n",
    "\n",
    "print(std1.__password)"
   ]
  }
 ],
 "metadata": {
  "kernelspec": {
   "display_name": "Python 3",
   "language": "python",
   "name": "python3"
  },
  "language_info": {
   "codemirror_mode": {
    "name": "ipython",
    "version": 3
   },
   "file_extension": ".py",
   "mimetype": "text/x-python",
   "name": "python",
   "nbconvert_exporter": "python",
   "pygments_lexer": "ipython3",
   "version": "3.12.4"
  }
 },
 "nbformat": 4,
 "nbformat_minor": 2
}
